{
 "cells": [
  {
   "cell_type": "code",
   "execution_count": 2,
   "metadata": {},
   "outputs": [
    {
     "data": {
      "text/html": [
       "<div>\n",
       "<style scoped>\n",
       "    .dataframe tbody tr th:only-of-type {\n",
       "        vertical-align: middle;\n",
       "    }\n",
       "\n",
       "    .dataframe tbody tr th {\n",
       "        vertical-align: top;\n",
       "    }\n",
       "\n",
       "    .dataframe thead th {\n",
       "        text-align: right;\n",
       "    }\n",
       "</style>\n",
       "<table border=\"1\" class=\"dataframe\">\n",
       "  <thead>\n",
       "    <tr style=\"text-align: right;\">\n",
       "      <th></th>\n",
       "      <th>ID</th>\n",
       "      <th>Case Number</th>\n",
       "      <th>Date</th>\n",
       "      <th>Block</th>\n",
       "      <th>IUCR</th>\n",
       "      <th>Primary Type</th>\n",
       "      <th>Description</th>\n",
       "      <th>Location Description</th>\n",
       "      <th>Arrest</th>\n",
       "      <th>Domestic</th>\n",
       "      <th>...</th>\n",
       "      <th>Ward</th>\n",
       "      <th>Community Area</th>\n",
       "      <th>FBI Code</th>\n",
       "      <th>X Coordinate</th>\n",
       "      <th>Y Coordinate</th>\n",
       "      <th>Year</th>\n",
       "      <th>Updated On</th>\n",
       "      <th>Latitude</th>\n",
       "      <th>Longitude</th>\n",
       "      <th>Location</th>\n",
       "    </tr>\n",
       "  </thead>\n",
       "  <tbody>\n",
       "    <tr>\n",
       "      <th>0</th>\n",
       "      <td>11221611</td>\n",
       "      <td>JB139411</td>\n",
       "      <td>2/3/2018 0:26</td>\n",
       "      <td>046XX W MONROE ST</td>\n",
       "      <td>486</td>\n",
       "      <td>BATTERY</td>\n",
       "      <td>DOMESTIC BATTERY SIMPLE</td>\n",
       "      <td>RESIDENCE</td>\n",
       "      <td>False</td>\n",
       "      <td>True</td>\n",
       "      <td>...</td>\n",
       "      <td>28</td>\n",
       "      <td>25</td>\n",
       "      <td>08B</td>\n",
       "      <td>1145407.0</td>\n",
       "      <td>1899159.0</td>\n",
       "      <td>2018</td>\n",
       "      <td>5/4/2018 15:51</td>\n",
       "      <td>41.879290</td>\n",
       "      <td>-87.741554</td>\n",
       "      <td>(41.879290415, -87.74155445)</td>\n",
       "    </tr>\n",
       "    <tr>\n",
       "      <th>1</th>\n",
       "      <td>11221678</td>\n",
       "      <td>JB139473</td>\n",
       "      <td>2/3/2018 2:10</td>\n",
       "      <td>039XX S WENTWORTH AVE</td>\n",
       "      <td>460</td>\n",
       "      <td>BATTERY</td>\n",
       "      <td>SIMPLE</td>\n",
       "      <td>SIDEWALK</td>\n",
       "      <td>False</td>\n",
       "      <td>False</td>\n",
       "      <td>...</td>\n",
       "      <td>3</td>\n",
       "      <td>37</td>\n",
       "      <td>08B</td>\n",
       "      <td>1175580.0</td>\n",
       "      <td>1879076.0</td>\n",
       "      <td>2018</td>\n",
       "      <td>5/4/2018 15:51</td>\n",
       "      <td>41.823557</td>\n",
       "      <td>-87.631367</td>\n",
       "      <td>(41.823556849, -87.631367455)</td>\n",
       "    </tr>\n",
       "    <tr>\n",
       "      <th>2</th>\n",
       "      <td>11221737</td>\n",
       "      <td>JB139513</td>\n",
       "      <td>2/3/2018 3:26</td>\n",
       "      <td>055XX W POTOMAC AVE</td>\n",
       "      <td>560</td>\n",
       "      <td>ASSAULT</td>\n",
       "      <td>SIMPLE</td>\n",
       "      <td>APARTMENT</td>\n",
       "      <td>False</td>\n",
       "      <td>True</td>\n",
       "      <td>...</td>\n",
       "      <td>37</td>\n",
       "      <td>25</td>\n",
       "      <td>08A</td>\n",
       "      <td>1139090.0</td>\n",
       "      <td>1908109.0</td>\n",
       "      <td>2018</td>\n",
       "      <td>5/4/2018 15:51</td>\n",
       "      <td>41.903968</td>\n",
       "      <td>-87.764532</td>\n",
       "      <td>(41.903967515, -87.764531903)</td>\n",
       "    </tr>\n",
       "    <tr>\n",
       "      <th>3</th>\n",
       "      <td>11221740</td>\n",
       "      <td>JB139533</td>\n",
       "      <td>2/3/2018 4:50</td>\n",
       "      <td>018XX S HARDING AVE</td>\n",
       "      <td>486</td>\n",
       "      <td>BATTERY</td>\n",
       "      <td>DOMESTIC BATTERY SIMPLE</td>\n",
       "      <td>VEHICLE NON-COMMERCIAL</td>\n",
       "      <td>False</td>\n",
       "      <td>True</td>\n",
       "      <td>...</td>\n",
       "      <td>24</td>\n",
       "      <td>29</td>\n",
       "      <td>08B</td>\n",
       "      <td>1150351.0</td>\n",
       "      <td>1890652.0</td>\n",
       "      <td>2018</td>\n",
       "      <td>5/4/2018 15:51</td>\n",
       "      <td>41.855851</td>\n",
       "      <td>-87.723623</td>\n",
       "      <td>(41.855851238, -87.723622599)</td>\n",
       "    </tr>\n",
       "    <tr>\n",
       "      <th>4</th>\n",
       "      <td>11221800</td>\n",
       "      <td>JB139583</td>\n",
       "      <td>2/3/2018 1:00</td>\n",
       "      <td>092XX S SAGINAW AVE</td>\n",
       "      <td>5002</td>\n",
       "      <td>OTHER OFFENSE</td>\n",
       "      <td>OTHER VEHICLE OFFENSE</td>\n",
       "      <td>STREET</td>\n",
       "      <td>False</td>\n",
       "      <td>True</td>\n",
       "      <td>...</td>\n",
       "      <td>7</td>\n",
       "      <td>48</td>\n",
       "      <td>26</td>\n",
       "      <td>1195488.0</td>\n",
       "      <td>1844215.0</td>\n",
       "      <td>2018</td>\n",
       "      <td>5/4/2018 15:51</td>\n",
       "      <td>41.727426</td>\n",
       "      <td>-87.559484</td>\n",
       "      <td>(41.727426452, -87.559484437)</td>\n",
       "    </tr>\n",
       "  </tbody>\n",
       "</table>\n",
       "<p>5 rows × 22 columns</p>\n",
       "</div>"
      ],
      "text/plain": [
       "         ID Case Number           Date                  Block  IUCR  \\\n",
       "0  11221611    JB139411  2/3/2018 0:26      046XX W MONROE ST   486   \n",
       "1  11221678    JB139473  2/3/2018 2:10  039XX S WENTWORTH AVE   460   \n",
       "2  11221737    JB139513  2/3/2018 3:26    055XX W POTOMAC AVE   560   \n",
       "3  11221740    JB139533  2/3/2018 4:50    018XX S HARDING AVE   486   \n",
       "4  11221800    JB139583  2/3/2018 1:00    092XX S SAGINAW AVE  5002   \n",
       "\n",
       "    Primary Type              Description    Location Description  Arrest  \\\n",
       "0        BATTERY  DOMESTIC BATTERY SIMPLE               RESIDENCE   False   \n",
       "1        BATTERY                   SIMPLE                SIDEWALK   False   \n",
       "2        ASSAULT                   SIMPLE               APARTMENT   False   \n",
       "3        BATTERY  DOMESTIC BATTERY SIMPLE  VEHICLE NON-COMMERCIAL   False   \n",
       "4  OTHER OFFENSE    OTHER VEHICLE OFFENSE                  STREET   False   \n",
       "\n",
       "   Domestic              ...                Ward  Community Area  FBI Code  \\\n",
       "0      True              ...                  28              25       08B   \n",
       "1     False              ...                   3              37       08B   \n",
       "2      True              ...                  37              25       08A   \n",
       "3      True              ...                  24              29       08B   \n",
       "4      True              ...                   7              48        26   \n",
       "\n",
       "   X Coordinate Y Coordinate  Year      Updated On   Latitude  Longitude  \\\n",
       "0     1145407.0    1899159.0  2018  5/4/2018 15:51  41.879290 -87.741554   \n",
       "1     1175580.0    1879076.0  2018  5/4/2018 15:51  41.823557 -87.631367   \n",
       "2     1139090.0    1908109.0  2018  5/4/2018 15:51  41.903968 -87.764532   \n",
       "3     1150351.0    1890652.0  2018  5/4/2018 15:51  41.855851 -87.723623   \n",
       "4     1195488.0    1844215.0  2018  5/4/2018 15:51  41.727426 -87.559484   \n",
       "\n",
       "                        Location  \n",
       "0   (41.879290415, -87.74155445)  \n",
       "1  (41.823556849, -87.631367455)  \n",
       "2  (41.903967515, -87.764531903)  \n",
       "3  (41.855851238, -87.723622599)  \n",
       "4  (41.727426452, -87.559484437)  \n",
       "\n",
       "[5 rows x 22 columns]"
      ]
     },
     "execution_count": 2,
     "metadata": {},
     "output_type": "execute_result"
    }
   ],
   "source": [
    "import pandas as pd\n",
    "\n",
    "data = pd.read_csv('2018_crime.csv')\n",
    "data = data.dropna()\n",
    "data.head()"
   ]
  },
  {
   "cell_type": "code",
   "execution_count": 3,
   "metadata": {},
   "outputs": [
    {
     "data": {
      "text/html": [
       "<div>\n",
       "<style scoped>\n",
       "    .dataframe tbody tr th:only-of-type {\n",
       "        vertical-align: middle;\n",
       "    }\n",
       "\n",
       "    .dataframe tbody tr th {\n",
       "        vertical-align: top;\n",
       "    }\n",
       "\n",
       "    .dataframe thead th {\n",
       "        text-align: right;\n",
       "    }\n",
       "</style>\n",
       "<table border=\"1\" class=\"dataframe\">\n",
       "  <thead>\n",
       "    <tr style=\"text-align: right;\">\n",
       "      <th></th>\n",
       "      <th>Date</th>\n",
       "      <th>Block</th>\n",
       "      <th>Primary Type</th>\n",
       "      <th>Location Description</th>\n",
       "      <th>Arrest</th>\n",
       "      <th>Year</th>\n",
       "    </tr>\n",
       "  </thead>\n",
       "  <tbody>\n",
       "    <tr>\n",
       "      <th>0</th>\n",
       "      <td>2/3/2018 0:26</td>\n",
       "      <td>046XX W MONROE ST</td>\n",
       "      <td>BATTERY</td>\n",
       "      <td>RESIDENCE</td>\n",
       "      <td>False</td>\n",
       "      <td>2018</td>\n",
       "    </tr>\n",
       "    <tr>\n",
       "      <th>1</th>\n",
       "      <td>2/3/2018 2:10</td>\n",
       "      <td>039XX S WENTWORTH AVE</td>\n",
       "      <td>BATTERY</td>\n",
       "      <td>SIDEWALK</td>\n",
       "      <td>False</td>\n",
       "      <td>2018</td>\n",
       "    </tr>\n",
       "    <tr>\n",
       "      <th>2</th>\n",
       "      <td>2/3/2018 3:26</td>\n",
       "      <td>055XX W POTOMAC AVE</td>\n",
       "      <td>ASSAULT</td>\n",
       "      <td>APARTMENT</td>\n",
       "      <td>False</td>\n",
       "      <td>2018</td>\n",
       "    </tr>\n",
       "    <tr>\n",
       "      <th>3</th>\n",
       "      <td>2/3/2018 4:50</td>\n",
       "      <td>018XX S HARDING AVE</td>\n",
       "      <td>BATTERY</td>\n",
       "      <td>VEHICLE NON-COMMERCIAL</td>\n",
       "      <td>False</td>\n",
       "      <td>2018</td>\n",
       "    </tr>\n",
       "    <tr>\n",
       "      <th>4</th>\n",
       "      <td>2/3/2018 1:00</td>\n",
       "      <td>092XX S SAGINAW AVE</td>\n",
       "      <td>OTHER OFFENSE</td>\n",
       "      <td>STREET</td>\n",
       "      <td>False</td>\n",
       "      <td>2018</td>\n",
       "    </tr>\n",
       "  </tbody>\n",
       "</table>\n",
       "</div>"
      ],
      "text/plain": [
       "            Date                  Block   Primary Type  \\\n",
       "0  2/3/2018 0:26      046XX W MONROE ST        BATTERY   \n",
       "1  2/3/2018 2:10  039XX S WENTWORTH AVE        BATTERY   \n",
       "2  2/3/2018 3:26    055XX W POTOMAC AVE        ASSAULT   \n",
       "3  2/3/2018 4:50    018XX S HARDING AVE        BATTERY   \n",
       "4  2/3/2018 1:00    092XX S SAGINAW AVE  OTHER OFFENSE   \n",
       "\n",
       "     Location Description  Arrest  Year  \n",
       "0               RESIDENCE   False  2018  \n",
       "1                SIDEWALK   False  2018  \n",
       "2               APARTMENT   False  2018  \n",
       "3  VEHICLE NON-COMMERCIAL   False  2018  \n",
       "4                  STREET   False  2018  "
      ]
     },
     "execution_count": 3,
     "metadata": {},
     "output_type": "execute_result"
    }
   ],
   "source": [
    "new_data = data.drop(['ID', 'Case Number', 'IUCR', 'Description', 'Domestic', 'Beat', 'District', 'Ward', 'FBI Code'\n",
    "                      , 'X Coordinate', 'Y Coordinate', 'Updated On', 'Latitude', 'Longitude', 'Location','Community Area'], axis = 1)\n",
    "new_data.head()"
   ]
  },
  {
   "cell_type": "code",
   "execution_count": 4,
   "metadata": {},
   "outputs": [],
   "source": [
    "new_data.to_csv(\"chicago_crime.csv\", index = 0)"
   ]
  },
  {
   "cell_type": "code",
   "execution_count": 5,
   "metadata": {},
   "outputs": [
    {
     "data": {
      "text/plain": [
       "(685, 6)"
      ]
     },
     "execution_count": 5,
     "metadata": {},
     "output_type": "execute_result"
    }
   ],
   "source": [
    "new_data.shape"
   ]
  },
  {
   "cell_type": "code",
   "execution_count": 13,
   "metadata": {},
   "outputs": [
    {
     "data": {
      "text/html": [
       "<div>\n",
       "<style scoped>\n",
       "    .dataframe tbody tr th:only-of-type {\n",
       "        vertical-align: middle;\n",
       "    }\n",
       "\n",
       "    .dataframe tbody tr th {\n",
       "        vertical-align: top;\n",
       "    }\n",
       "\n",
       "    .dataframe thead th {\n",
       "        text-align: right;\n",
       "    }\n",
       "</style>\n",
       "<table border=\"1\" class=\"dataframe\">\n",
       "  <thead>\n",
       "    <tr style=\"text-align: right;\">\n",
       "      <th></th>\n",
       "      <th>Date</th>\n",
       "      <th>Block</th>\n",
       "      <th>Location Description</th>\n",
       "      <th>Arrest</th>\n",
       "    </tr>\n",
       "  </thead>\n",
       "  <tbody>\n",
       "  </tbody>\n",
       "</table>\n",
       "</div>"
      ],
      "text/plain": [
       "Empty DataFrame\n",
       "Columns: [Date, Block, Location Description, Arrest]\n",
       "Index: []"
      ]
     },
     "execution_count": 13,
     "metadata": {},
     "output_type": "execute_result"
    }
   ],
   "source": [
    "from pandas import DataFrame\n",
    "import csv\n",
    "\n",
    "theft_data = DataFrame(columns=['Date','Block','Location Description','Arrest'])\n",
    "\n",
    "with open('chicago_crime.csv') as f:\n",
    "    reader = csv.DictReader(f, delimiter=',')\n",
    "    for row in reader:\n",
    "        crime_type = row['Primary Type']\n",
    "        i = 0;\n",
    "        if crime_type == 'BATTERY':\n",
    "            dict1 = {}\n",
    "            #dict1.update(row['Date'], row['Block'], row['Location Description'], row['Arrest'])\n",
    "            \n",
    "theft_data.head()"
   ]
  },
  {
   "cell_type": "code",
   "execution_count": 14,
   "metadata": {},
   "outputs": [
    {
     "data": {
      "text/html": [
       "<div>\n",
       "<style scoped>\n",
       "    .dataframe tbody tr th:only-of-type {\n",
       "        vertical-align: middle;\n",
       "    }\n",
       "\n",
       "    .dataframe tbody tr th {\n",
       "        vertical-align: top;\n",
       "    }\n",
       "\n",
       "    .dataframe thead th {\n",
       "        text-align: right;\n",
       "    }\n",
       "</style>\n",
       "<table border=\"1\" class=\"dataframe\">\n",
       "  <thead>\n",
       "    <tr style=\"text-align: right;\">\n",
       "      <th></th>\n",
       "      <th>Date</th>\n",
       "      <th>Description</th>\n",
       "      <th>Location Description</th>\n",
       "      <th>Arrest</th>\n",
       "      <th>Domestic</th>\n",
       "      <th>District</th>\n",
       "    </tr>\n",
       "  </thead>\n",
       "  <tbody>\n",
       "    <tr>\n",
       "      <th>0</th>\n",
       "      <td>2/3/2018</td>\n",
       "      <td>DOMESTIC BATTERY SIMPLE</td>\n",
       "      <td>RESIDENCE</td>\n",
       "      <td>False</td>\n",
       "      <td>True</td>\n",
       "      <td>11</td>\n",
       "    </tr>\n",
       "    <tr>\n",
       "      <th>1</th>\n",
       "      <td>2/3/2018</td>\n",
       "      <td>SIMPLE</td>\n",
       "      <td>SIDEWALK</td>\n",
       "      <td>False</td>\n",
       "      <td>False</td>\n",
       "      <td>9</td>\n",
       "    </tr>\n",
       "    <tr>\n",
       "      <th>2</th>\n",
       "      <td>2/3/2018</td>\n",
       "      <td>DOMESTIC BATTERY SIMPLE</td>\n",
       "      <td>VEHICLE NON-COMMERCIAL</td>\n",
       "      <td>False</td>\n",
       "      <td>True</td>\n",
       "      <td>10</td>\n",
       "    </tr>\n",
       "    <tr>\n",
       "      <th>3</th>\n",
       "      <td>2/3/2018</td>\n",
       "      <td>DOMESTIC BATTERY SIMPLE</td>\n",
       "      <td>RESIDENCE</td>\n",
       "      <td>False</td>\n",
       "      <td>True</td>\n",
       "      <td>8</td>\n",
       "    </tr>\n",
       "    <tr>\n",
       "      <th>4</th>\n",
       "      <td>2/3/2018</td>\n",
       "      <td>DOMESTIC BATTERY SIMPLE</td>\n",
       "      <td>APARTMENT</td>\n",
       "      <td>False</td>\n",
       "      <td>True</td>\n",
       "      <td>5</td>\n",
       "    </tr>\n",
       "  </tbody>\n",
       "</table>\n",
       "</div>"
      ],
      "text/plain": [
       "       Date              Description    Location Description  Arrest  \\\n",
       "0  2/3/2018  DOMESTIC BATTERY SIMPLE               RESIDENCE   False   \n",
       "1  2/3/2018                   SIMPLE                SIDEWALK   False   \n",
       "2  2/3/2018  DOMESTIC BATTERY SIMPLE  VEHICLE NON-COMMERCIAL   False   \n",
       "3  2/3/2018  DOMESTIC BATTERY SIMPLE               RESIDENCE   False   \n",
       "4  2/3/2018  DOMESTIC BATTERY SIMPLE               APARTMENT   False   \n",
       "\n",
       "   Domestic  District  \n",
       "0      True        11  \n",
       "1     False         9  \n",
       "2      True        10  \n",
       "3      True         8  \n",
       "4      True         5  "
      ]
     },
     "execution_count": 14,
     "metadata": {},
     "output_type": "execute_result"
    }
   ],
   "source": [
    "battery_data = pd.read_csv('battery_data.csv')\n",
    "battery_data.head()"
   ]
  },
  {
   "cell_type": "raw",
   "metadata": {},
   "source": [
    "Processing for if the crime was domestic"
   ]
  },
  {
   "cell_type": "code",
   "execution_count": 74,
   "metadata": {},
   "outputs": [],
   "source": [
    "%matplotlib inline\n",
    "from sklearn.model_selection import train_test_split"
   ]
  },
  {
   "cell_type": "code",
   "execution_count": 75,
   "metadata": {},
   "outputs": [],
   "source": [
    "y = battery_data['Domestic'] \n",
    "X = battery_data.drop('Domestic', axis = 1)\n",
    "\n",
    "# drop any column that uses strings\n",
    "X = X.drop('Date', axis = 1)\n",
    "X = X.drop('Description', axis = 1)\n",
    "X = X.drop('Location Description', axis = 1)\n",
    "X = X.drop('Arrest', axis = 1)\n",
    "X_train, X_test, Y_train, Y_test = train_test_split(X, y, test_size=0.3, random_state=1)"
   ]
  },
  {
   "cell_type": "code",
   "execution_count": 76,
   "metadata": {},
   "outputs": [
    {
     "name": "stdout",
     "output_type": "stream",
     "text": [
      "Best hyperparameter, maxdepth = 5\n",
      "Test Accuracy = 0.5277777777777778\n"
     ]
    },
    {
     "data": {
      "image/png": "[encoded data removed]",
      "text/plain": [
       "<Figure size 432x288 with 1 Axes>"
      ]
     },
     "metadata": {
      "needs_background": "light"
     },
     "output_type": "display_data"
    }
   ],
   "source": [
    "import numpy as np\n",
    "from sklearn import tree\n",
    "from sklearn.metrics import accuracy_score\n",
    "from sklearn.model_selection import cross_val_score\n",
    "import matplotlib.pyplot as plt\n",
    "\n",
    "maxdepths = [1,5,10,20,30,40,50]\n",
    "validationAcc = np.zeros(len(maxdepths))\n",
    "testAcc = np.zeros(len(maxdepths))\n",
    "index = 0\n",
    "\n",
    "np.random.seed(1)\n",
    "for depth in maxdepths:\n",
    "    clf = tree.DecisionTreeClassifier(max_depth=depth)\n",
    "    scores = cross_val_score(clf, X_train, Y_train, cv=10)\n",
    "    validationAcc[index] = np.mean(scores)\n",
    "    clf.fit(X_train, Y_train)\n",
    "    Y_predTest = clf.predict(X_test)\n",
    "    testAcc[index] = accuracy_score(Y_test, Y_predTest)\n",
    "    index += 1\n",
    "    \n",
    "plt.plot(maxdepths, validationAcc, 'ro--', maxdepths, testAcc, 'kv-')\n",
    "plt.xlabel('Maximum depth')\n",
    "plt.ylabel('Accuracy')\n",
    "plt.title('Decision tree')\n",
    "plt.legend(['Validation','Testing'])\n",
    "plt.ylim([0.0,1.0])\n",
    "\n",
    "bestHyperparam = np.argmax(validationAcc)\n",
    "print('Best hyperparameter, maxdepth =', maxdepths[bestHyperparam])\n",
    "print('Test Accuracy =', testAcc[bestHyperparam])\n"
   ]
  },
  {
   "cell_type": "code",
   "execution_count": 77,
   "metadata": {},
   "outputs": [
    {
     "name": "stdout",
     "output_type": "stream",
     "text": [
      "Best hyperparameter, k = 1\n",
      "Test Accuracy = 0.5277777777777778\n"
     ]
    },
    {
     "data": {
      "image/png": "[encoded data removed]",
      "text/plain": [
       "<Figure size 432x288 with 1 Axes>"
      ]
     },
     "metadata": {
      "needs_background": "light"
     },
     "output_type": "display_data"
    }
   ],
   "source": [
    "from sklearn.neighbors import KNeighborsClassifier\n",
    "import matplotlib.pyplot as plt\n",
    "%matplotlib inline\n",
    "\n",
    "numNeighbors = [1,3,5,7,10,15,20,25,30]\n",
    "validationAcc = np.zeros(len(numNeighbors))\n",
    "testAcc = np.zeros(len(numNeighbors))\n",
    "index = 0\n",
    "\n",
    "np.random.seed(1)\n",
    "for nn in numNeighbors:\n",
    "    clf = KNeighborsClassifier(n_neighbors=nn)\n",
    "    scores = cross_val_score(clf, X_train, Y_train, cv=10)\n",
    "    validationAcc[index] = np.mean(scores)\n",
    "    clf.fit(X_train, Y_train)\n",
    "    Y_predTest = clf.predict(X_test)\n",
    "    testAcc[index] = accuracy_score(Y_test, Y_predTest)\n",
    "    index += 1\n",
    "    \n",
    "plt.plot(numNeighbors, validationAcc, 'ro--', numNeighbors, testAcc, 'kv-')\n",
    "plt.xlabel('Number of neighbors')\n",
    "plt.ylabel('Accuracy')\n",
    "plt.title('k-nearest neighbors')\n",
    "plt.legend(['Validation','Testing'])\n",
    "plt.ylim([0.0,1.0])\n",
    "\n",
    "bestHyperparam = np.argmax(validationAcc)\n",
    "print('Best hyperparameter, k =', numNeighbors[bestHyperparam])\n",
    "print('Test Accuracy =', testAcc[bestHyperparam])"
   ]
  },
  {
   "cell_type": "code",
   "execution_count": 78,
   "metadata": {},
   "outputs": [
    {
     "name": "stdout",
     "output_type": "stream",
     "text": [
      "Best hyperparameter, C = 0.1\n",
      "Test Accuracy = 0.5555555555555556\n"
     ]
    },
    {
     "data": {
      "image/png": "[encoded data removed]",
      "text/plain": [
       "<Figure size 432x288 with 1 Axes>"
      ]
     },
     "metadata": {
      "needs_background": "light"
     },
     "output_type": "display_data"
    }
   ],
   "source": [
    "from sklearn import linear_model\n",
    "\n",
    "regularizers = [0.1,0.5,1,3,5,8,10,15,20,30]\n",
    "validationAcc = np.zeros(len(regularizers))\n",
    "testAcc = np.zeros(len(regularizers))\n",
    "index = 0\n",
    "\n",
    "np.random.seed(1)\n",
    "for C in regularizers:\n",
    "    clf = linear_model.LogisticRegression(C= C, solver='liblinear', penalty='l1')\n",
    "    scores = cross_val_score(clf, X_train, Y_train, cv=10)\n",
    "    validationAcc[index] = np.mean(scores)\n",
    "    clf.fit(X_train, Y_train)\n",
    "    Y_predTest = clf.predict(X_test)\n",
    "    testAcc[index] = accuracy_score(Y_test, Y_predTest)\n",
    "    index += 1\n",
    "    \n",
    "plt.plot(regularizers, validationAcc, 'ro--', regularizers, testAcc, 'kv-')\n",
    "plt.xlabel('Regularizer (C)')\n",
    "plt.ylabel('Accuracy')\n",
    "plt.title('Logistic regression')\n",
    "plt.legend(['Validation','Testing'])\n",
    "plt.ylim([0.0,1.0])\n",
    "\n",
    "bestHyperparam = np.argmax(validationAcc)\n",
    "print('Best hyperparameter, C =', regularizers[bestHyperparam])\n",
    "print('Test Accuracy =', testAcc[bestHyperparam])"
   ]
  },
  {
   "cell_type": "code",
   "execution_count": 79,
   "metadata": {},
   "outputs": [
    {
     "name": "stdout",
     "output_type": "stream",
     "text": [
      "Test Accuracy = 0.6111111111111112\n"
     ]
    }
   ],
   "source": [
    "from sklearn import ensemble\n",
    "from sklearn.tree import DecisionTreeClassifier\n",
    "\n",
    "numEstimators = 500\n",
    "np.random.seed(1)\n",
    "clf = ensemble.RandomForestClassifier(n_estimators=numEstimators)\n",
    "clf.fit(X_train, Y_train)\n",
    "Y_pred = clf.predict(X_test)\n",
    "print('Test Accuracy =', accuracy_score(Y_test, Y_pred))"
   ]
  },
  {
   "cell_type": "code",
   "execution_count": 80,
   "metadata": {},
   "outputs": [
    {
     "data": {
      "text/plain": [
       "[('RESIDENCE', True, 11.0, None),\n",
       " ('SIDEWALK', False, 9.0, None),\n",
       " ('VEHICLE NON-COMMERCIAL', True, 10.0, None),\n",
       " ('RESIDENCE', True, 8.0, None),\n",
       " ('APARTMENT', True, 5.0, None)]"
      ]
     },
     "execution_count": 80,
     "metadata": {},
     "output_type": "execute_result"
    }
   ],
   "source": [
    "from surprise import Dataset\n",
    "from surprise import Reader\n",
    "\n",
    "domestic_data = pd.read_csv('battery_data.csv')\n",
    "reader = Reader(line_format='user item rating', sep=',', rating_scale=(1,5))\n",
    "data = Dataset.load_from_df(domestic_data[['Location Description','Domestic', 'District']], reader=reader)\n",
    "data.raw_ratings[:5]"
   ]
  },
  {
   "cell_type": "code",
   "execution_count": 82,
   "metadata": {},
   "outputs": [
    {
     "data": {
      "text/plain": [
       "<surprise.prediction_algorithms.matrix_factorization.NMF at 0x177d6b2ce48>"
      ]
     },
     "execution_count": 82,
     "metadata": {},
     "output_type": "execute_result"
    }
   ],
   "source": [
    "from surprise import NMF\n",
    "from surprise.model_selection import train_test_split\n",
    "\n",
    "trainset, testset = train_test_split(data, test_size=0.5, random_state=1)\n",
    "\n",
    "algo = NMF(n_factors=20, n_epochs=200)\n",
    "algo.fit(trainset)"
   ]
  },
  {
   "cell_type": "code",
   "execution_count": 83,
   "metadata": {},
   "outputs": [
    {
     "name": "stdout",
     "output_type": "stream",
     "text": [
      "RMSE: 8.9521\n",
      "MAE:  6.6479\n"
     ]
    },
    {
     "data": {
      "text/plain": [
       "(8.95209359239911, 6.647909472346279)"
      ]
     },
     "execution_count": 83,
     "metadata": {},
     "output_type": "execute_result"
    }
   ],
   "source": [
    "from surprise import accuracy\n",
    "\n",
    "pred = algo.test(testset)\n",
    "accuracy.rmse(pred), accuracy.mae(pred)"
   ]
  },
  {
   "cell_type": "markdown",
   "metadata": {},
   "source": [
    "Processing for if the person will be arrested"
   ]
  },
  {
   "cell_type": "code",
   "execution_count": 63,
   "metadata": {},
   "outputs": [],
   "source": [
    "from sklearn.model_selection import train_test_split\n",
    "%matplotlib inline\n",
    "\n",
    "y2 = battery_data['Arrest'] \n",
    "X2 = battery_data.drop('Arrest', axis = 1)\n",
    "\n",
    "# drop any column that uses strings\n",
    "X2 = X2.drop('Date', axis = 1)\n",
    "X2 = X2.drop('Description', axis = 1)\n",
    "X2 = X2.drop('Location Description', axis = 1)\n",
    "X2 = X2.drop('Domestic', axis = 1)\n",
    "X2_train, X2_test, Y2_train, Y2_test = train_test_split(X2, y2, test_size=0.3, random_state=1)"
   ]
  },
  {
   "cell_type": "code",
   "execution_count": 64,
   "metadata": {},
   "outputs": [
    {
     "name": "stdout",
     "output_type": "stream",
     "text": [
      "Best hyperparameter, maxdepth = 5\n",
      "Test Accuracy = 0.8055555555555556\n"
     ]
    },
    {
     "data": {
      "image/png": "[encoded data removed]",
      "text/plain": [
       "<Figure size 432x288 with 1 Axes>"
      ]
     },
     "metadata": {
      "needs_background": "light"
     },
     "output_type": "display_data"
    }
   ],
   "source": [
    "import numpy as np\n",
    "from sklearn import tree\n",
    "from sklearn.metrics import accuracy_score\n",
    "from sklearn.model_selection import cross_val_score\n",
    "import matplotlib.pyplot as plt\n",
    "\n",
    "maxdepths = [1,5,10,20,30,40,50]\n",
    "validationAcc = np.zeros(len(maxdepths))\n",
    "testAcc = np.zeros(len(maxdepths))\n",
    "index = 0\n",
    "\n",
    "np.random.seed(1)\n",
    "for depth in maxdepths:\n",
    "    clf = tree.DecisionTreeClassifier(max_depth=depth)\n",
    "    scores = cross_val_score(clf, X2_train, Y2_train, cv=10)\n",
    "    validationAcc[index] = np.mean(scores)\n",
    "    clf.fit(X2_train, Y2_train)\n",
    "    Y2_predTest = clf.predict(X2_test)\n",
    "    testAcc[index] = accuracy_score(Y2_test, Y2_predTest)\n",
    "    index += 1\n",
    "    \n",
    "plt.plot(maxdepths, validationAcc, 'ro--', maxdepths, testAcc, 'kv-')\n",
    "plt.xlabel('Maximum depth')\n",
    "plt.ylabel('Accuracy')\n",
    "plt.title('Decision tree')\n",
    "plt.legend(['Validation','Testing'])\n",
    "plt.ylim([0.0,1.0])\n",
    "\n",
    "bestHyperparam = np.argmax(validationAcc)\n",
    "print('Best hyperparameter, maxdepth =', maxdepths[bestHyperparam])\n",
    "print('Test Accuracy =', testAcc[bestHyperparam])\n"
   ]
  },
  {
   "cell_type": "code",
   "execution_count": 65,
   "metadata": {},
   "outputs": [
    {
     "name": "stdout",
     "output_type": "stream",
     "text": [
      "Best hyperparameter, k = 7\n",
      "Test Accuracy = 0.8055555555555556\n"
     ]
    },
    {
     "data": {
      "image/png": "[encoded data removed]",
      "text/plain": [
       "<Figure size 432x288 with 1 Axes>"
      ]
     },
     "metadata": {
      "needs_background": "light"
     },
     "output_type": "display_data"
    }
   ],
   "source": [
    "from sklearn.neighbors import KNeighborsClassifier\n",
    "import matplotlib.pyplot as plt\n",
    "%matplotlib inline\n",
    "\n",
    "numNeighbors = [1,3,5,7,10,15,20,25,30]\n",
    "validationAcc = np.zeros(len(numNeighbors))\n",
    "testAcc = np.zeros(len(numNeighbors))\n",
    "index = 0\n",
    "\n",
    "np.random.seed(1)\n",
    "for nn in numNeighbors:\n",
    "    clf = KNeighborsClassifier(n_neighbors=nn)\n",
    "    scores = cross_val_score(clf, X2_train, Y2_train, cv=10)\n",
    "    validationAcc[index] = np.mean(scores)\n",
    "    clf.fit(X2_train, Y2_train)\n",
    "    Y2_predTest = clf.predict(X2_test)\n",
    "    testAcc[index] = accuracy_score(Y2_test, Y2_predTest)\n",
    "    index += 1\n",
    "    \n",
    "plt.plot(numNeighbors, validationAcc, 'ro--', numNeighbors, testAcc, 'kv-')\n",
    "plt.xlabel('Number of neighbors')\n",
    "plt.ylabel('Accuracy')\n",
    "plt.title('k-nearest neighbors')\n",
    "plt.legend(['Validation','Testing'])\n",
    "plt.ylim([0.0,1.0])\n",
    "\n",
    "bestHyperparam = np.argmax(validationAcc)\n",
    "print('Best hyperparameter, k =', numNeighbors[bestHyperparam])\n",
    "print('Test Accuracy =', testAcc[bestHyperparam])"
   ]
  },
  {
   "cell_type": "code",
   "execution_count": 66,
   "metadata": {},
   "outputs": [
    {
     "name": "stdout",
     "output_type": "stream",
     "text": [
      "Best hyperparameter, C = 0.1\n",
      "Test Accuracy = 0.8055555555555556\n"
     ]
    },
    {
     "data": {
      "image/png": "[encoded data removed]",
      "text/plain": [
       "<Figure size 432x288 with 1 Axes>"
      ]
     },
     "metadata": {
      "needs_background": "light"
     },
     "output_type": "display_data"
    }
   ],
   "source": [
    "from sklearn import linear_model\n",
    "\n",
    "regularizers = [0.1,0.5,1,3,5,8,10,15,20,30]\n",
    "validationAcc = np.zeros(len(regularizers))\n",
    "testAcc = np.zeros(len(regularizers))\n",
    "index = 0\n",
    "\n",
    "np.random.seed(1)\n",
    "for C in regularizers:\n",
    "    clf = linear_model.LogisticRegression(C= C, solver='liblinear', penalty='l1')\n",
    "    scores = cross_val_score(clf, X2_train, Y2_train, cv=10)\n",
    "    validationAcc[index] = np.mean(scores)\n",
    "    clf.fit(X2_train, Y2_train)\n",
    "    Y2_predTest = clf.predict(X2_test)\n",
    "    testAcc[index] = accuracy_score(Y2_test, Y2_predTest)\n",
    "    index += 1\n",
    "    \n",
    "plt.plot(regularizers, validationAcc, 'ro--', regularizers, testAcc, 'kv-')\n",
    "plt.xlabel('Regularizer (C)')\n",
    "plt.ylabel('Accuracy')\n",
    "plt.title('Logistic regression')\n",
    "plt.legend(['Validation','Testing'])\n",
    "plt.ylim([0.0,1.0])\n",
    "\n",
    "bestHyperparam = np.argmax(validationAcc)\n",
    "print('Best hyperparameter, C =', regularizers[bestHyperparam])\n",
    "print('Test Accuracy =', testAcc[bestHyperparam])"
   ]
  },
  {
   "cell_type": "code",
   "execution_count": 67,
   "metadata": {},
   "outputs": [
    {
     "name": "stdout",
     "output_type": "stream",
     "text": [
      "Test Accuracy = 0.8055555555555556\n"
     ]
    }
   ],
   "source": [
    "from sklearn import ensemble\n",
    "from sklearn.tree import DecisionTreeClassifier\n",
    "\n",
    "numEstimators = 500\n",
    "np.random.seed(1)\n",
    "clf = ensemble.RandomForestClassifier(n_estimators=numEstimators)\n",
    "clf.fit(X2_train, Y2_train)\n",
    "Y2_pred = clf.predict(X2_test)\n",
    "print('Test Accuracy =', accuracy_score(Y2_test, Y2_pred))"
   ]
  },
  {
   "cell_type": "code",
   "execution_count": 68,
   "metadata": {},
   "outputs": [
    {
     "data": {
      "text/plain": [
       "[('RESIDENCE', True, 11.0, None),\n",
       " ('SIDEWALK', False, 9.0, None),\n",
       " ('VEHICLE NON-COMMERCIAL', True, 10.0, None),\n",
       " ('RESIDENCE', True, 8.0, None),\n",
       " ('APARTMENT', True, 5.0, None)]"
      ]
     },
     "execution_count": 68,
     "metadata": {},
     "output_type": "execute_result"
    }
   ],
   "source": [
    "from surprise import Dataset\n",
    "from surprise import Reader\n",
    "\n",
    "arrest_data = pd.read_csv('battery_data.csv')\n",
    "reader = Reader(line_format='user item rating', sep=',', rating_scale=(1,5))\n",
    "data = Dataset.load_from_df(arrest_data[['Location Description','Domestic', 'District']], reader=reader)\n",
    "data.raw_ratings[:5]"
   ]
  },
  {
   "cell_type": "code",
   "execution_count": 88,
   "metadata": {},
   "outputs": [
    {
     "data": {
      "text/plain": [
       "<surprise.prediction_algorithms.matrix_factorization.NMF at 0x177d6abb470>"
      ]
     },
     "execution_count": 88,
     "metadata": {},
     "output_type": "execute_result"
    }
   ],
   "source": [
    "from surprise import NMF\n",
    "from surprise.model_selection import train_test_split\n",
    "\n",
    "trainset, testset = train_test_split(data, test_size=0.5)\n",
    "\n",
    "algo = NMF(n_factors=20, n_epochs=200)\n",
    "algo.fit(trainset)"
   ]
  },
  {
   "cell_type": "code",
   "execution_count": 87,
   "metadata": {},
   "outputs": [
    {
     "name": "stdout",
     "output_type": "stream",
     "text": [
      "RMSE: 8.9526\n",
      "MAE:  6.6477\n"
     ]
    },
    {
     "data": {
      "text/plain": [
       "(8.952575377530705, 6.647673476742477)"
      ]
     },
     "execution_count": 87,
     "metadata": {},
     "output_type": "execute_result"
    }
   ],
   "source": [
    "from surprise import accuracy\n",
    "\n",
    "pred = algo.test(testset)\n",
    "accuracy.rmse(pred), accuracy.mae(pred)"
   ]
  },
  {
   "cell_type": "code",
   "execution_count": null,
   "metadata": {},
   "outputs": [],
   "source": []
  }
 ],
 "metadata": {
  "kernelspec": {
   "display_name": "Python 3",
   "language": "python",
   "name": "python3"
  },
  "language_info": {
   "codemirror_mode": {
    "name": "ipython",
    "version": 3
   },
   "file_extension": ".py",
   "mimetype": "text/x-python",
   "name": "python",
   "nbconvert_exporter": "python",
   "pygments_lexer": "ipython3",
   "version": "3.7.1"
  }
 },
 "nbformat": 4,
 "nbformat_minor": 2
}
